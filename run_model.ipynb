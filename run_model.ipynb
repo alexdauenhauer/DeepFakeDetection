{
 "cells": [
  {
   "cell_type": "code",
   "execution_count": 1,
   "metadata": {},
   "outputs": [],
   "source": [
    "import os\n",
    "import pickle\n",
    "import time\n",
    "\n",
    "import numpy as np\n",
    "import pandas as pd\n",
    "import tensorflow as tf\n",
    "from sklearn.utils.class_weight import compute_class_weight\n",
    "from sklearn.model_selection import train_test_split\n",
    "from tensorflow.keras.layers import (BatchNormalization, ConvLSTM2D, Dense,\n",
    "                                     Input, LeakyReLU, Conv3D)\n",
    "from tensorflow.keras.models import Model\n",
    "from tensorflow.keras.utils import to_categorical\n",
    "from_generator = tf.data.Dataset.from_generator\n",
    "\n",
    "from DataPrep import DataPrep"
   ]
  },
  {
   "cell_type": "code",
   "execution_count": 2,
   "metadata": {},
   "outputs": [],
   "source": [
    "gpus = tf.config.experimental.list_physical_devices('GPU')\n",
    "if gpus:\n",
    "    # Currently, memory growth needs to be the same across GPUs\n",
    "    for gpu in gpus:\n",
    "        tf.config.experimental.set_memory_growth(gpu, True)"
   ]
  },
  {
   "cell_type": "code",
   "execution_count": 3,
   "metadata": {},
   "outputs": [
    {
     "name": "stdout",
     "output_type": "stream",
     "text": [
      "FAKE 0.6177606177606177\n",
      "REAL 2.622950819672131\n",
      "320 320 80 80\n"
     ]
    }
   ],
   "source": [
    "\n",
    "# TODO: add variables for frame height and width\n",
    "# def input_fn(filepath, batch_size=10, segment_size=5):\n",
    "\n",
    "filepath = 'data/train_sample_videos'\n",
    "segment_size = 5\n",
    "datapath = os.path.join(filepath, 'metadata.json')\n",
    "data = pd.read_json(os.path.join(datapath)).T\n",
    "files = [os.path.join(filepath, f) for f in data.index]\n",
    "labels = data.label.values\n",
    "x_train, x_test, y_train, y_test = train_test_split(\n",
    "    files, labels, test_size=0.2)\n",
    "class_weights = compute_class_weight('balanced', np.unique(y_train), y_train)\n",
    "for k, v in zip(np.unique(y_train), class_weights):\n",
    "    print(k, v)\n",
    "y_train = list(map(lambda x: 0 if x == 'REAL' else 1, y_train))\n",
    "y_test = list(map(lambda x: 0 if x == 'REAL' else 1, y_test))\n",
    "y_train = to_categorical(y_train, num_classes=2)\n",
    "y_test = to_categorical(y_test, num_classes=2)\n",
    "print(len(x_train), len(y_train), len(x_test), len(y_test))\n",
    "\n"
   ]
  },
  {
   "cell_type": "code",
   "execution_count": 4,
   "metadata": {},
   "outputs": [],
   "source": [
    "\n",
    "# @tf.function\n",
    "def input_fn(files, labels, segment_size=5, batch_size=1, rsz=(128, 128)):\n",
    "    def dataGenerator():\n",
    "        for f, label in zip(files, labels):\n",
    "            dp = DataPrepDlib(segment_size=segment_size)\n",
    "            # frames = dp.prepFullFrames(filepath=f)\n",
    "            # flows = dp.getOpticalFlows()\n",
    "            frames, flows = dp.prepVid(filepath=f)\n",
    "            yield {'rgb_input': frames, 'flow_input': flows}, label\n",
    "    dataset = from_generator(\n",
    "        dataGenerator,\n",
    "        output_types=(\n",
    "            {\n",
    "                \"rgb_input\": tf.int8,\n",
    "                \"flow_input\": tf.float32\n",
    "            },\n",
    "            tf.int8),\n",
    "        output_shapes=(\n",
    "            {\n",
    "                \"rgb_input\": (segment_size, rsz[0], rsz[1], 3),\n",
    "                \"flow_input\": (segment_size - 1, rsz[0], rsz[1], 2)\n",
    "            },\n",
    "            (2,))\n",
    "    )\n",
    "    dataset = dataset.batch(batch_size)\n",
    "    return dataset\n",
    "\n"
   ]
  },
  {
   "cell_type": "code",
   "execution_count": 5,
   "metadata": {},
   "outputs": [],
   "source": [
    "batch_size = 10\n",
    "train_data = input_fn(x_train, y_train, batch_size=batch_size)\n",
    "test_data = input_fn(x_test, y_test, batch_size=batch_size)\n",
    "\n"
   ]
  },
  {
   "cell_type": "code",
   "execution_count": 6,
   "metadata": {},
   "outputs": [],
   "source": [
    "class InputStream(tf.keras.Model):\n",
    "    def __init__(self, kernel_size, filters, name):\n",
    "        super().__init__(name=name)\n",
    "        self.convLstm1 = ConvLSTM2D(\n",
    "            filters=filters,\n",
    "            kernel_size=kernel_size,\n",
    "            strides=1,\n",
    "            padding='same',\n",
    "            data_format='channels_last',\n",
    "            return_sequences=True,\n",
    "            dropout=0.5\n",
    "        )\n",
    "        self.bn1 = BatchNormalization()\n",
    "        self.convLstm2 = ConvLSTM2D(\n",
    "            filters=filters,\n",
    "            kernel_size=kernel_size,\n",
    "            strides=1,\n",
    "            padding='same',\n",
    "            data_format='channels_last',\n",
    "            return_sequences=True,\n",
    "            dropout=0.5\n",
    "        )\n",
    "        self.bn2 = BatchNormalization()\n",
    "        self.convLstm3 = ConvLSTM2D(\n",
    "            filters=filters,\n",
    "            kernel_size=kernel_size,\n",
    "            strides=1,\n",
    "            padding='same',\n",
    "            data_format='channels_last',\n",
    "            return_sequences=False,\n",
    "            dropout=0.5\n",
    "        )\n",
    "        self.bn3 = BatchNormalization()\n",
    "        self.act = LeakyReLU()\n",
    "        self.flatten = tf.keras.layers.Flatten()\n",
    "        self.dense1 = Dense(128)\n",
    "        self.act1 = LeakyReLU()\n",
    "        self.dense2 = Dense(128)\n",
    "        self.act2 = LeakyReLU()\n",
    "        self.dense3 = Dense(128)\n",
    "        self.act3 = LeakyReLU()\n",
    "        self.dropout = tf.keras.layers.Dropout(0.5)\n",
    "        self.out_layer = Dense(2)\n",
    "\n",
    "    # TODO: specify different behavior for training, i.e. dropout only when\n",
    "    # training\n",
    "    def call(self, input_tensor, training=False):\n",
    "        x = self.convLstm1(input_tensor)\n",
    "        x = self.bn1(x)\n",
    "        x = self.convLstm2(x)\n",
    "        x = self.bn2(x)\n",
    "        x = self.convLstm3(x)\n",
    "        x = self.bn3(x)\n",
    "        x = self.act(x)\n",
    "        x = self.flatten(x)\n",
    "        x = self.dense1(x)\n",
    "        x = self.act1(x)\n",
    "        x = self.dense2(x)\n",
    "        x = self.act2(x)\n",
    "        x = self.dense3(x)\n",
    "        x = self.act3(x)\n",
    "        if training:\n",
    "            x = self.dropout(x)\n",
    "        return self.out_layer(x)\n",
    "\n"
   ]
  },
  {
   "cell_type": "code",
   "execution_count": 7,
   "metadata": {},
   "outputs": [],
   "source": [
    "# class InputStream(tf.keras.Model):\n",
    "#     def __init__(self, kernel_size, filters, name):\n",
    "#         super().__init__(name=name)\n",
    "\n",
    "# kernel_size = 3\n",
    "# filters = 1\n",
    "# rgb_input = tf.keras.Input(shape=(5, 256, 256, 3), name='rgb_input')\n",
    "# convLstm1 = ConvLSTM2D(\n",
    "#     filters=filters,\n",
    "#     kernel_size=kernel_size,\n",
    "#     strides=1,\n",
    "#     padding='same',\n",
    "#     data_format='channels_last',\n",
    "#     return_sequences=True,\n",
    "#     dropout=0.5\n",
    "# )(rgb_input)\n",
    "# bn = BatchNormalization()(convLstm1)\n",
    "# convLstm2 = ConvLSTM2D(\n",
    "#     filters=filters,\n",
    "#     kernel_size=kernel_size,\n",
    "#     strides=1,\n",
    "#     padding='same',\n",
    "#     data_format='channels_last',\n",
    "#     return_sequences=False,\n",
    "#     dropout=0.5\n",
    "# )(bn)\n",
    "# bn = BatchNormalization()(convLstm2)\n",
    "# flatten = tf.keras.layers.Flatten()(bn)\n",
    "# dense = Dense(512)(flatten)\n",
    "# act = LeakyReLU()(dense)\n",
    "# dense = Dense(512)(act)\n",
    "# act = LeakyReLU()(dense)\n",
    "# dense = Dense(512)(act)\n",
    "# act = LeakyReLU()(dense)\n",
    "# dropout = tf.keras.layers.Dropout(0.5)(act)\n",
    "# out_layer = Dense(2)(dropout)\n",
    "# model = Model(inputs=rgb_input, outputs=out_layer)\n",
    "# model.summary()\n",
    "\n"
   ]
  },
  {
   "cell_type": "code",
   "execution_count": 8,
   "metadata": {},
   "outputs": [
    {
     "name": "stdout",
     "output_type": "stream",
     "text": [
      "Model: \"my_model\"\n",
      "__________________________________________________________________________________________________\n",
      "Layer (type)                    Output Shape         Param #     Connected to                     \n",
      "==================================================================================================\n",
      "rgb_input (InputLayer)          [(None, 5, 256, 256, 0                                            \n",
      "__________________________________________________________________________________________________\n",
      "flow_input (InputLayer)         [(None, 4, 256, 256, 0                                            \n",
      "__________________________________________________________________________________________________\n",
      "rgb_stream (InputStream)        (None, 2)            33591250    rgb_input[0][0]                  \n",
      "__________________________________________________________________________________________________\n",
      "flow_stream (InputStream)       (None, 2)            33591106    flow_input[0][0]                 \n",
      "__________________________________________________________________________________________________\n",
      "average (Average)               (None, 2)            0           rgb_stream[0][0]                 \n",
      "                                                                 flow_stream[0][0]                \n",
      "__________________________________________________________________________________________________\n",
      "flatten_2 (Flatten)             (None, 2)            0           average[0][0]                    \n",
      "__________________________________________________________________________________________________\n",
      "final_output (Dense)            (None, 2)            6           flatten_2[0][0]                  \n",
      "==================================================================================================\n",
      "Total params: 67,182,362\n",
      "Trainable params: 67,182,314\n",
      "Non-trainable params: 48\n",
      "__________________________________________________________________________________________________\n"
     ]
    }
   ],
   "source": [
    "rgb_stream = InputStream(3, 4, 'rgb_stream')\n",
    "flow_stream = InputStream(3, 4, 'flow_stream')\n",
    "rgb_input = tf.keras.Input(shape=(5, 256, 256, 3), name='rgb_input')\n",
    "flow_input = tf.keras.Input(shape=(4, 256, 256, 2), name='flow_input')\n",
    "rgb = rgb_stream(rgb_input)\n",
    "flow = flow_stream(flow_input)\n",
    "final_average = tf.keras.layers.average([rgb, flow])\n",
    "x = tf.keras.layers.Flatten()(final_average)\n",
    "final_output = Dense(2, activation='softmax', name='final_output')(x)\n",
    "model = Model(\n",
    "    inputs={\"rgb_input\": rgb_input, \"flow_input\": flow_input},\n",
    "    outputs=final_output,\n",
    "    name='my_model'\n",
    ")\n",
    "model.summary()\n"
   ]
  },
  {
   "cell_type": "code",
   "execution_count": 9,
   "metadata": {},
   "outputs": [
    {
     "data": {
      "image/png": "[encoded data removed]",
      "text/plain": [
       "<IPython.core.display.Image object>"
      ]
     },
     "execution_count": 9,
     "metadata": {},
     "output_type": "execute_result"
    }
   ],
   "source": [
    "tf.keras.utils.plot_model(\n",
    "    model,\n",
    "    to_file='model.png',\n",
    "    show_shapes=True,\n",
    "    show_layer_names=True,\n",
    ")\n",
    "\n"
   ]
  },
  {
   "cell_type": "code",
   "execution_count": 10,
   "metadata": {},
   "outputs": [
    {
     "name": "stdout",
     "output_type": "stream",
     "text": [
      "Epoch 1/10\n",
      "32/32 [==============================] - 143s 4s/step - loss: 8.4851 - acc: 0.7188\n",
      "Epoch 2/10\n",
      "32/32 [==============================] - 126s 4s/step - loss: 4.7678 - acc: 0.6531\n",
      "Epoch 3/10\n",
      "32/32 [==============================] - 121s 4s/step - loss: 2.6671 - acc: 0.6969\n",
      "Epoch 4/10\n",
      "32/32 [==============================] - 125s 4s/step - loss: 2.0180 - acc: 0.7437\n",
      "Epoch 5/10\n",
      "32/32 [==============================] - 124s 4s/step - loss: 1.2356 - acc: 0.7094\n",
      "Epoch 6/10\n",
      "32/32 [==============================] - 121s 4s/step - loss: 1.2291 - acc: 0.6750\n",
      "Epoch 7/10\n",
      "32/32 [==============================] - 123s 4s/step - loss: 0.9215 - acc: 0.7406\n",
      "Epoch 8/10\n",
      "32/32 [==============================] - 123s 4s/step - loss: 0.8768 - acc: 0.7281\n",
      "Epoch 9/10\n",
      "32/32 [==============================] - 122s 4s/step - loss: 0.8040 - acc: 0.7594\n",
      "Epoch 10/10\n",
      "32/32 [==============================] - 123s 4s/step - loss: 0.7563 - acc: 0.7344\n"
     ]
    },
    {
     "data": {
      "text/plain": [
       "<tensorflow.python.keras.callbacks.History at 0x7f50a44c4610>"
      ]
     },
     "execution_count": 10,
     "metadata": {},
     "output_type": "execute_result"
    }
   ],
   "source": [
    "opt = tf.keras.optimizers.Adam()\n",
    "model.compile(\n",
    "    optimizer=opt,\n",
    "    loss='categorical_crossentropy',\n",
    "    metrics=['acc'])\n",
    "model.fit(\n",
    "    train_data,\n",
    "    epochs=10,\n",
    "    verbose=1,\n",
    "    class_weight=class_weights\n",
    ")\n",
    "\n"
   ]
  },
  {
   "cell_type": "code",
   "execution_count": 11,
   "metadata": {},
   "outputs": [
    {
     "name": "stdout",
     "output_type": "stream",
     "text": [
      "8/8 [==============================] - 29s 4s/step - loss: 0.7828 - acc: 0.5750\n"
     ]
    },
    {
     "data": {
      "text/plain": [
       "[0.7827930524945259, 0.575]"
      ]
     },
     "execution_count": 11,
     "metadata": {},
     "output_type": "execute_result"
    }
   ],
   "source": [
    "model.evaluate(\n",
    "    test_data,\n",
    "    #     class_weight=class_weights\n",
    ")\n",
    "\n"
   ]
  },
  {
   "cell_type": "code",
   "execution_count": null,
   "metadata": {},
   "outputs": [],
   "source": [
    "\n"
   ]
  },
  {
   "cell_type": "code",
   "execution_count": null,
   "metadata": {},
   "outputs": [],
   "source": [
    "# DEBUGGING\n",
    "dataset = input_fn(filepath, batch_size=1)\n",
    "start = time.time()\n",
    "for i, x in enumerate(dataset):\n",
    "    print(i)\n",
    "    data_dict, label = x\n",
    "    for k, v in data_dict.items():\n",
    "        print(k, v.numpy().shape)\n",
    "    print(time.time() - start)\n",
    "\n"
   ]
  },
  {
   "cell_type": "code",
   "execution_count": null,
   "metadata": {},
   "outputs": [],
   "source": [
    "filepath = 'data/train_sample_videos'\n",
    "segment_size = 5\n",
    "datapath = os.path.join(filepath, 'metadata.json')\n",
    "data = pd.read_json(os.path.join(datapath)).T\n",
    "files = [os.path.join(filepath, f) for f in data.index]\n",
    "labels = data.label.apply(lambda x: 0 if x == 'REAL' else 1)\n",
    "labels = to_categorical(labels, num_classes=2)\n",
    "for i, (f, label) in enumerate(zip(files, labels)):\n",
    "    try:\n",
    "        dp = DataPrep(segment_size=segment_size)\n",
    "        frames = dp.prepFullFrames(filepath=f)\n",
    "        flows = dp.getOpticalFlows()\n",
    "    except Exception as e:\n",
    "        print(i, f, label)\n",
    "        print(e)\n",
    "        break\n",
    "print('everything is working now')\n",
    "\n"
   ]
  },
  {
   "cell_type": "code",
   "execution_count": null,
   "metadata": {},
   "outputs": [],
   "source": [
    "f = 'data/train_sample_videos/adhsbajydo.mp4'\n",
    "dp = DataPrep(segment_size=segment_size)\n",
    "frames = dp.prepFullFrames(filepath=f)\n"
   ]
  }
 ],
 "metadata": {
  "file_extension": ".py",
  "kernelspec": {
   "display_name": "Python 3",
   "language": "python",
   "name": "python3"
  },
  "language_info": {
   "codemirror_mode": {
    "name": "ipython",
    "version": 3
   },
   "file_extension": ".py",
   "mimetype": "text/x-python",
   "name": "python",
   "nbconvert_exporter": "python",
   "pygments_lexer": "ipython3",
   "version": "3.7.6"
  },
  "mimetype": "text/x-python",
  "name": "python",
  "npconvert_exporter": "python",
  "pygments_lexer": "ipython3",
  "version": 3
 },
 "nbformat": 4,
 "nbformat_minor": 4
}